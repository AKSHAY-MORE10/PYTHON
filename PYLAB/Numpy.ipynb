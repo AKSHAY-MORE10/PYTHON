{
 "cells": [
  {
   "cell_type": "code",
   "execution_count": null,
   "metadata": {},
   "outputs": [],
   "source": [
    "# ● Numpy\n",
    "\n",
    "\n",
    "# 1 Create Arrays\n",
    "# ●\tcreate a 1-dimensional array arr1 with elements [1, 2, 3, 4, 5]? \n",
    "# ●\tcreate a 2-dimensional array arr2 with elements [[1, 2, 3], [4, 5, 6]]? \n",
    "\n",
    "# solution\n",
    "import numpy as np\n",
    "\n",
    "\n",
    "arr1 = np.array([1, 2, 3, 4, 5])\n",
    "arr2 = np.array([[1, 2, 3], [4, 5, 6]])\n",
    "# print(arr1)\n",
    "# print(arr2)\n",
    "\n",
    "sum_arr1 = arr1.sum()\n",
    "mean_arr2 = arr2.mean()\n",
    "# print(sum_arr1)\n",
    "# print(mean_arr2)  \n",
    "\n",
    "column_sum = np.sum(arr1, axis=0)\n",
    "# print(column_sum)\n",
    "row_sum = np.sum(arr2, axis=1)\n",
    "# print(row_sum)\n",
    "\n",
    "\n",
    "# Sum along a flattened array\n",
    "arr2 = np.array([[1, 2, 3], [4, 5, 6]])\n",
    "flat_sum = np.sum(arr2.flatten())\n",
    "print(flat_sum) #21"
   ]
  },
  {
   "cell_type": "code",
   "execution_count": null,
   "metadata": {},
   "outputs": [],
   "source": [
    "\n",
    "# 3 Generate Arrays: \n",
    "# ●\tcreate a 2x3 array of zeros? \n",
    "# ●\tcreate a 3x2 array of ones? \n",
    "# ●\tcreate a 2x2 array of random numbers between 0 and 1? \n",
    "\n",
    "arraysZeros = np.zeros((2, 3))\n",
    "# print(arraysZeros)\n",
    "\n",
    "arraysones = np.ones((3, 2))\n",
    "# print(arraysones)\n",
    "\n",
    "arraysRandom = np.random.rand(2, 2)\n",
    "# print(arraysRandom) "
   ]
  },
  {
   "cell_type": "code",
   "execution_count": null,
   "metadata": {},
   "outputs": [],
   "source": [
    "\n",
    "# 4 Element-wise Operations: \n",
    "# ●\tGiven two arrays arr3 = np.array([1, 2, 3, 4, 5]) and arr4 = np.array([6, 7, 8, 9, 10]), compute their element-wise sum? \n",
    "# ●\tGiven arr3 and arr4, compute their element-wise multiplication? \n",
    "\n",
    "arr3 = np.array([1, 2, 3, 4, 5])\n",
    "arr4 = np.array([6, 7, 8, 9, 10])\n",
    "\n",
    "sumElementWise = arr3 + arr4\n",
    "# print(sumElementWise)\n",
    "multiplyElementWise = arr3 * arr4\n",
    "# print(multiplyElementWise)"
   ]
  },
  {
   "cell_type": "code",
   "execution_count": null,
   "metadata": {},
   "outputs": [],
   "source": [
    "# Matrix Operations: \n",
    "# ●\tperform matrix multiplication on the following matrices: \n",
    "# mat1 = np.array([[1, 2], [3, 4]]) \n",
    "# mat2 = np.array([[5, 6], [7, 8]]) \n",
    "# ●\tcompute the transpose of mat1? \n",
    "\n",
    "\n",
    "\n",
    "\n",
    "mat1 = np.array([[1, 2], [3, 4]]) \n",
    "mat2 = np.array([[5, 6], [7, 8]]) \n",
    "\n",
    "\n",
    "matrixMult = np.dot(mat1, mat2)\n",
    "# print(matrixMult)\n",
    "\n",
    "transpose_mat1 = mat1.T\n",
    "# print(transpose_mat1)\n",
    "\n",
    "transpose_mat2 = mat2.T\n",
    "# print(transpose_mat2)\n"
   ]
  }
 ],
 "metadata": {
  "language_info": {
   "name": "python"
  }
 },
 "nbformat": 4,
 "nbformat_minor": 2
}
