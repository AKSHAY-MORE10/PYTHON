{
 "cells": [
  {
   "cell_type": "code",
   "execution_count": null,
   "metadata": {},
   "outputs": [],
   "source": [
    "import pandas as pd\n",
    "\n",
    "\n",
    "\n",
    "# Example: Creating a DataFrame from a dictionary\n",
    "data = {\n",
    "    'Name': ['Akshay', 'John', 'Emma'],\n",
    "    'Age': [21, 22, 23],\n",
    "    'City': ['Pune', 'Mumbai', 'Delhi']\n",
    "}\n",
    "\n",
    "df = pd.DataFrame(data)\n",
    "print(df)\n"
   ]
  }
 ],
 "metadata": {
  "language_info": {
   "name": "python"
  }
 },
 "nbformat": 4,
 "nbformat_minor": 2
}
