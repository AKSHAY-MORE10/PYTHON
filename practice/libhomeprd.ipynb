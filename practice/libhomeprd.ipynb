{
 "cells": [
  {
   "cell_type": "code",
   "execution_count": 10,
   "metadata": {},
   "outputs": [
    {
     "name": "stdout",
     "output_type": "stream",
     "text": [
      "Accuracy: 0.6\n",
      "Precision: 0.6\n",
      "Recall: 0.6\n",
      "F1 Score: 0.6\n"
     ]
    }
   ],
   "source": [
    "from sklearn.metrics import accuracy_score, precision_score, recall_score, f1_score\n",
    "\n",
    "y_true = [1,0,1,1,0,1,0,2,3,4]\n",
    "y_pred = [1,0,0,1,0,1,0,1,1,0]\n",
    "\n",
    "accuracy = accuracy_score(y_true, y_pred)\n",
    "precision = precision_score(y_true, y_pred, average='micro')\n",
    "recall = recall_score(y_true, y_pred, average='micro')\n",
    "f1 = f1_score(y_true, y_pred, average='micro')\n",
    "\n",
    "print(\"Accuracy:\", accuracy)\n",
    "print(\"Precision:\", precision)\n",
    "print(\"Recall:\", recall)\n",
    "print(\"F1 Score:\", f1)\n"
   ]
  },
  {
   "cell_type": "code",
   "execution_count": 1,
   "metadata": {},
   "outputs": [
    {
     "name": "stdout",
     "output_type": "stream",
     "text": [
      "Mean Squared Error: 6379366664.15923\n"
     ]
    }
   ],
   "source": [
    "import numpy as np\n",
    "import pandas as pd\n",
    "from sklearn.model_selection import train_test_split\n",
    "from sklearn.linear_model import LinearRegression\n",
    "from sklearn.metrics import mean_squared_error\n",
    "\n",
    "# Creating the dataset\n",
    "data = {\n",
    "    'size': [1400, 1600, 1700, 1875, 1100, 1550, 2350, 2450, 1425, 1700],\n",
    "    'Rooms': [3, 3, 4, 2, 3, 4, 4, 3, 3, 3],\n",
    "    'price': [245000, 312000, 400000, 320000, 360000, 444000, 239000, 242000, 221000, 254000]\n",
    "}\n",
    "\n",
    "# Creating a DataFrame\n",
    "df = pd.DataFrame(data)\n",
    "\n",
    "# Selecting features (size, Rooms) and target (price)\n",
    "X = df[['size', 'Rooms']]  # Features\n",
    "y = df['price']  # Target variable\n",
    "\n",
    "# Splitting data into 80% training and 20% testing sets\n",
    "X_train, X_test, y_train, y_test = train_test_split(X, y, test_size=0.2, random_state=42)\n",
    "\n",
    "# Creating and training the model\n",
    "model = LinearRegression()\n",
    "model.fit(X_train, y_train)\n",
    "\n",
    "# Making predictions\n",
    "y_pred = model.predict(X_test)\n",
    "\n",
    "# Calculating Mean Squared Error (MSE)\n",
    "mse = mean_squared_error(y_test, y_pred)\n",
    "# print(\"Mean Squared Error:\", mse)\n"
   ]
  },
  {
   "cell_type": "code",
   "execution_count": 1,
   "metadata": {},
   "outputs": [
    {
     "name": "stdout",
     "output_type": "stream",
     "text": [
      "   age  income  loan_amt  credit_score  approvd\n",
      "0   25   50000    200000           700        1\n",
      "1   45   85000    300000           650        0\n",
      "2   35   72000    250000           710        1\n",
      "3   50   96000    400000           680        0\n",
      "4   23   43000    150000           720        1\n",
      "5   43   79000    290000           660        0\n",
      "6   38   67000    230000           690        1\n",
      "7   48   82000    310000           640        0\n",
      "8   30   58000    190000           730        1\n",
      "9   37   69000    220000           670        1\n",
      "\n",
      "accuracy scores for each fold:[1. 1. 1. 1. 1.]\n",
      "mean cross validation accuracy:1.00\n"
     ]
    },
    {
     "name": "stderr",
     "output_type": "stream",
     "text": [
      "/usr/local/lib64/python3.12/site-packages/sklearn/model_selection/_split.py:776: UserWarning: The least populated class in y has only 4 members, which is less than n_splits=5.\n",
      "  warnings.warn(\n"
     ]
    }
   ],
   "source": [
    "import pandas as pd\n",
    "from sklearn.model_selection import cross_val_score\n",
    "from sklearn.neighbors import KNeighborsClassifier\n",
    "from sklearn.preprocessing import StandardScaler\n",
    "\n",
    "\n",
    "\n",
    "data={\n",
    "    \"age\":[25,45,35,50,23,43,38,48,30,37],\n",
    "    \"income\":[50000,85000,72000,96000,43000,79000,67000,82000,58000,69000],\n",
    "    \"loan_amt\":[200000,300000,250000,400000,150000,290000,230000,310000,190000,220000],\n",
    "    \"credit_score\":[700,650,710,680,720,660,690,640,730,670,],\n",
    "    \"approvd\":[1,0,1,0,1,0,1,0,1,1]\n",
    "}\n",
    "\n",
    "df=pd.DataFrame(data)\n",
    "print(df)\n",
    "x=df[[\"age\",\"income\",\"loan_amt\",\"credit_score\"]]\n",
    "y=df[\"approvd\"]\n",
    "\n",
    "scaler=StandardScaler()\n",
    "x_scaled=scaler.fit_transform(x)\n",
    "\n",
    "knn=KNeighborsClassifier(n_neighbors=3)\n",
    "\n",
    "cv_score=cross=cross_val_score(knn,x_scaled,y,cv=5,scoring=\"accuracy\")\n",
    "print()\n",
    "# print(f\"accuracy scores for each fold:{cv_score}\")\n",
    "# print(f\"mean cross validation accuracy:{cv_score.mean():.2f}\")"
   ]
  },
  {
   "cell_type": "code",
   "execution_count": 1,
   "metadata": {},
   "outputs": [
    {
     "name": "stdout",
     "output_type": "stream",
     "text": [
      "Existing and new contents of python.txt:\n",
      "Python is programming language. It is interpreted language. It is easy to learn, debug.\n",
      "\n"
     ]
    }
   ],
   "source": [
    "def read_write_file(filename, content):\n",
    "  \"\"\"\n",
    "  This function opens a file, writes content to it, and then reads and displays both the existing and new contents.\n",
    "\n",
    "  Args:\n",
    "      filename: The name of the file to open.\n",
    "      content: The content to write to the file.\n",
    "  \"\"\"\n",
    "\n",
    "  # Open the file in append mode ('a') to preserve existing content\n",
    "  with open(filename, 'a') as file:\n",
    "    # Write the new content to the file\n",
    "    file.write(content)\n",
    "\n",
    "  # Read the entire content of the file\n",
    "  with open(filename, 'r') as file:\n",
    "    all_content = file.read()\n",
    "\n",
    "  # Display the content\n",
    "  print(\"Existing and new contents of\", filename + \":\")\n",
    "  print(all_content)\n",
    "\n",
    "# Define the filename and content\n",
    "filename = \"python.txt\"\n",
    "content = \"Python is programming language. It is interpreted language. It is easy to learn, debug.\\n\"\n",
    "\n",
    "# Call the function to perform the operations\n",
    "read_write_file(filename, content)"
   ]
  },
  {
   "cell_type": "code",
   "execution_count": null,
   "metadata": {},
   "outputs": [],
   "source": []
  }
 ],
 "metadata": {
  "kernelspec": {
   "display_name": "Python 3",
   "language": "python",
   "name": "python3"
  },
  "language_info": {
   "codemirror_mode": {
    "name": "ipython",
    "version": 3
   },
   "file_extension": ".py",
   "mimetype": "text/x-python",
   "name": "python",
   "nbconvert_exporter": "python",
   "pygments_lexer": "ipython3",
   "version": "3.12.5"
  }
 },
 "nbformat": 4,
 "nbformat_minor": 2
}
